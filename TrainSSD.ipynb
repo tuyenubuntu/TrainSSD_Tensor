{
  "nbformat": 4,
  "nbformat_minor": 0,
  "metadata": {
    "colab": {
      "private_outputs": true,
      "provenance": [],
      "machine_shape": "hm",
      "gpuType": "T4"
    },
    "kernelspec": {
      "name": "python3",
      "display_name": "Python 3"
    },
    "language_info": {
      "name": "python"
    },
    "accelerator": "GPU"
  },
  "cells": [
    {
      "cell_type": "markdown",
      "source": [
        "https://github.com/EdjeElectronics/TensorFlow-Object-Detection-API-Tutorial-Train-Multiple-Objects-Windows-10/blob/master/translate/README_Vietnamese.md"
      ],
      "metadata": {
        "id": "Zud_mNgXehJe"
      }
    },
    {
      "cell_type": "markdown",
      "source": [
        "https://phamdinhkhanh.github.io/2019/10/05/SSDModelObjectDetection.html"
      ],
      "metadata": {
        "id": "VrHMmxJneg_f"
      }
    },
    {
      "cell_type": "markdown",
      "source": [
        "https://howkteam.vn/course/giai-ngo-ai/object-detection-tim-vat-the-trong-hinh-voi-tensorflow-4484"
      ],
      "metadata": {
        "id": "mi_Yl6z7eg0R"
      }
    },
    {
      "cell_type": "code",
      "execution_count": null,
      "metadata": {
        "id": "uWhGx6BUG993"
      },
      "outputs": [],
      "source": [
        "from google.colab import drive\n",
        "drive.mount('/content/drive')\n",
        "!cd content/drive/MyDrive/"
      ]
    },
    {
      "cell_type": "code",
      "source": [
        "#Check data set, remove\n",
        "import os\n",
        "import shutil\n",
        "\n",
        "img_path = '/content/drive/MyDrive/ML/SSD_Tensor/draw_data/images'\n",
        "label_path = '/content/drive/MyDrive/ML/SSD_Tensor/draw_data/labels'\n",
        "\n",
        "file_img = os.listdir(img_path)\n",
        "file_label = os.listdir(label_path)\n",
        "\n",
        "ext_img= []\n",
        "for i in file_img:\n",
        "    ext_img.append(os.path.splitext(i)[0])\n",
        "ext_label = []\n",
        "for x in file_label:\n",
        "    ext_label.append(os.path.splitext(x)[0])\n",
        "\n",
        "for z in ext_img:\n",
        "    if z not in ext_label:\n",
        "        os.remove(os.path.join(img_path, z+'.jpg'))\n",
        "    else:\n",
        "        continue"
      ],
      "metadata": {
        "id": "X1c6xjc7B8bi"
      },
      "execution_count": null,
      "outputs": []
    },
    {
      "cell_type": "code",
      "source": [
        "!cd /content/drive/MyDrive/ML/SSD_Tensor/"
      ],
      "metadata": {
        "id": "fVCQYJaJywLC"
      },
      "execution_count": null,
      "outputs": []
    },
    {
      "cell_type": "code",
      "source": [
        "#div train and test (80% train, 20% test)\n",
        "import os\n",
        "import shutil\n",
        "import glob\n",
        "import random\n",
        "from sklearn.model_selection import train_test_split\n",
        "#path\n",
        "draw_data_path = '/content/drive/MyDrive/ML/SSD_Tensor/draw_data'\n",
        "train_data_path = '/content/drive/MyDrive/ML/SSD_Tensor/draw_data/split_data/train'\n",
        "test_data_path = '/content/drive/MyDrive/ML/SSD_Tensor/draw_data/split_data/test'\n",
        "if not os.path.exists(train_data_path):\n",
        "  os.makedirs(os.path.join (train_data_path, 'images'))\n",
        "  os.makedirs(os.path.join (train_data_path, 'labels'))\n",
        "if not os.path.exists(test_data_path):\n",
        "  os.makedirs(os.path.join (test_data_path, 'images'))\n",
        "  os.makedirs(os.path.join (test_data_path, 'labels'))\n",
        "images = os.listdir(os.path.join(draw_data_path, 'images'))\n",
        "labels = os.listdir(os.path.join(draw_data_path, 'labels'))\n",
        "train_images, test_images = train_test_split(images, test_size=0.2, random_state=42)\n",
        "for i in train_images:\n",
        "  shutil.copy(os.path.join(draw_data_path + '/images', i), os.path.join(train_data_path + '/images', i))\n",
        "  shutil.copy(os.path.join(draw_data_path + '/labels', i.replace('.jpg', '.xml')), os.path.join(train_data_path + '/labels', i.replace('.jpg', '.xml')))\n",
        "for i in test_images:\n",
        "  shutil.copy(os.path.join(draw_data_path + '/images', i), os.path.join(test_data_path + '/images', i))\n",
        "  shutil.copy(os.path.join(draw_data_path + '/labels', i.replace('.jpg', '.xml')), os.path.join(test_data_path + '/labels', i.replace('.jpg', '.xml')))"
      ],
      "metadata": {
        "id": "vIcE9GGal_1m"
      },
      "execution_count": null,
      "outputs": []
    },
    {
      "cell_type": "code",
      "source": [
        "#check div data\n",
        "#train/images\n",
        "len_train_images = len (os.listdir(os.path.join(train_data_path, 'images')))\n",
        "#train/labels\n",
        "len_train_labels = len (os.listdir(os.path.join(train_data_path, 'labels')))\n",
        "#test/images\n",
        "len_test_images = len (os.listdir(os.path.join(test_data_path, 'images')))\n",
        "#test/labels\n",
        "len_test_labels = len (os.listdir(os.path.join(test_data_path, 'labels')))\n",
        "print ('total: ', len_test_images + len_train_images)\n",
        "print ('train/images: ', len_train_images)\n",
        "print ('train/labels: ', len_train_labels)\n",
        "print ('test/images: ', len_test_images)\n",
        "print ('test/labels: ', len_test_labels)"
      ],
      "metadata": {
        "id": "SH_JVYKLziLL"
      },
      "execution_count": null,
      "outputs": []
    },
    {
      "cell_type": "code",
      "source": [
        "#div train and test (80% train, 20% test), ver2 : in one folder\n",
        "import os\n",
        "import shutil\n",
        "import glob\n",
        "import random\n",
        "from sklearn.model_selection import train_test_split\n",
        "#path\n",
        "draw_data_path = '/content/drive/MyDrive/ML/SSD_Tensor/draw_data'\n",
        "train_data_path = '/content/drive/MyDrive/ML/SSD_Tensor/draw_data/split_data/train'\n",
        "test_data_path = '/content/drive/MyDrive/ML/SSD_Tensor/draw_data/split_data/test'\n",
        "if not os.path.exists(train_data_path):\n",
        "  os.makedirs (train_data_path)\n",
        "if not os.path.exists(test_data_path):\n",
        "  os.makedirs (test_data_path)\n",
        "images = os.listdir(os.path.join(draw_data_path, 'images'))\n",
        "labels = os.listdir(os.path.join(draw_data_path, 'labels'))\n",
        "train_images, test_images = train_test_split(images, test_size=0.2, random_state=42)\n",
        "for i in train_images:\n",
        "  shutil.copy(os.path.join(draw_data_path + '/images', i), os.path.join(train_data_path, i))\n",
        "  shutil.copy(os.path.join(draw_data_path + '/labels', i.replace('.jpg', '.xml')), os.path.join(train_data_path, i.replace('.jpg', '.xml')))\n",
        "for i in test_images:\n",
        "  shutil.copy(os.path.join(draw_data_path + '/images', i), os.path.join(test_data_path, i))\n",
        "  shutil.copy(os.path.join(draw_data_path + '/labels', i.replace('.jpg', '.xml')), os.path.join(test_data_path, i.replace('.jpg', '.xml')))"
      ],
      "metadata": {
        "id": "QONFa5lfDWyP"
      },
      "execution_count": null,
      "outputs": []
    },
    {
      "cell_type": "code",
      "source": [
        "#check div data\n",
        "#train/\n",
        "len_train = len (os.listdir(os.path.join(train_data_path)))\n",
        "#test/\n",
        "len_test = len (os.listdir(os.path.join(test_data_path)))\n",
        "\n",
        "print ('total: ', len_test + len_train)\n",
        "print ('train: ', len_train)\n",
        "print ('test: ', len_test)\n"
      ],
      "metadata": {
        "id": "ceDg24F4LC0m"
      },
      "execution_count": null,
      "outputs": []
    },
    {
      "cell_type": "code",
      "source": [
        "dr = os.listdir('/content/drive/MyDrive')\n",
        "for i in dr:\n",
        "  if 'Basler' in i:\n",
        "    print(i, 'yes')\n",
        "    os.remove(os.path.join('/content/drive/MyDrive', i))\n",
        "    print ('removed: ', i)\n",
        "  else:\n",
        "    continue"
      ],
      "metadata": {
        "id": "hC8R04wy3DA7"
      },
      "execution_count": null,
      "outputs": []
    },
    {
      "cell_type": "code",
      "source": [
        "import os\n",
        "import glob\n",
        "import xml.etree.ElementTree as ET\n",
        "import pandas as pd\n",
        "\n",
        "\n",
        "\n",
        "def xml_to_csv (path):\n",
        "  xml_list = []\n",
        "  for xml_file in glob.glob(path + '/*.xml'):\n",
        "    tree = ET.parse(xml_file)\n",
        "    root = tree.getroot()\n",
        "    for member in root.findall('object'):\n",
        "      value = (root.find('filename').text,\n",
        "               int(root.find('size')[0].text),\n",
        "               int(root.find('size')[1].text),\n",
        "               member[0].text,\n",
        "               int(member[4][0].text),\n",
        "               int(member[4][1].text),\n",
        "               int(member[4][2].text),\n",
        "               int(member[4][3].text)\n",
        "               )\n",
        "      xml_list.append(value)\n",
        "  column_name = ['filename', 'width', 'height', 'class', 'xmin', 'ymin', 'xmax', 'ymax']\n",
        "  xml_df = pd.DataFrame(xml_list, columns=column_name)\n",
        "  return xml_df\n",
        "  #xml\n",
        "for directory in ['train', 'test']:\n",
        "  image_path = os.path.join('/content/drive/MyDrive/ML/SSD_Tensor/draw_data/split_data', '{}/'.format(directory))\n",
        "  print (image_path)\n",
        "  xml_df = xml_to_csv(image_path)\n",
        "  xml_df.to_csv('/content/drive/MyDrive/ML/SSD_Tensor/draw_data/split_data/{}_labels.csv'.format(directory), index=None)\n",
        "  print('Successfully converted xml to csv.')\n",
        "#"
      ],
      "metadata": {
        "id": "PlK1-zkAGbPY"
      },
      "execution_count": null,
      "outputs": []
    },
    {
      "cell_type": "code",
      "source": [],
      "metadata": {
        "id": "EsfFjx6dQoWX"
      },
      "execution_count": null,
      "outputs": []
    }
  ]
}